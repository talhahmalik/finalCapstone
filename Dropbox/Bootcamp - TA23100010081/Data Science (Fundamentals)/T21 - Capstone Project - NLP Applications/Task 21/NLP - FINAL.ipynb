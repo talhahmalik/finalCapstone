{
 "cells": [
  {
   "cell_type": "code",
   "execution_count": 106,
   "id": "22cd84bd",
   "metadata": {},
   "outputs": [],
   "source": [
    "# Import Pandas for data manipulation\n",
    "import pandas as pd\n",
    "# Import spacy for natural language processing tasks\n",
    "import spacy\n",
    "from spacy.lang.en.stop_words import STOP_WORDS"
   ]
  },
  {
   "cell_type": "code",
   "execution_count": 107,
   "id": "46709f82",
   "metadata": {},
   "outputs": [],
   "source": [
    "nlp = spacy.load(\"en_core_web_sm\")"
   ]
  },
  {
   "cell_type": "code",
   "execution_count": 108,
   "id": "87bc8f67",
   "metadata": {},
   "outputs": [],
   "source": [
    "def preprocess_text(text):\n",
    "    # Tokenize the text\n",
    "    doc = nlp(text)\n",
    "    # Filter out stopwords and punctuation, and convert tokens to lowercase\n",
    "    tokens = [token.text.lower() for token in doc if not token.is_stop and not token.is_punct]\n",
    "    # Join the tokens back into a single string\n",
    "    return \" \".join(tokens)"
   ]
  },
  {
   "cell_type": "code",
   "execution_count": 109,
   "id": "b2ad0332",
   "metadata": {},
   "outputs": [],
   "source": [
    "from textblob import TextBlob\n",
    "\n",
    "def analyze_sentiment(text):\n",
    "    # Check if the text is empty or contains only whitespace\n",
    "    if not text.strip():  \n",
    "        # Return a default sentiment value or skip the analysis\n",
    "        return \"Empty\"\n",
    "    doc = nlp(text)\n",
    "    \n",
    "    # Register the sentiment analysis extension attribute\n",
    "    if not doc.has_extension(\"sentiment\"):\n",
    "        doc.set_extension(\"sentiment\", getter=lambda doc: TextBlob(doc.text).sentiment.polarity)\n",
    "    \n",
    "    # Calculate sentiment polarity\n",
    "    polarity = doc._.sentiment\n",
    "    # Determine sentiment based on polarity\n",
    "    if polarity > 0:\n",
    "        return \"Positive\"\n",
    "    elif polarity < 0:\n",
    "        return \"Negative\"\n",
    "    else:\n",
    "        return \"Neutral\""
   ]
  },
  {
   "cell_type": "code",
   "execution_count": 110,
   "id": "93e8d0ba",
   "metadata": {},
   "outputs": [],
   "source": [
    "import os\n",
    "\n",
    "# Get the current working directory\n",
    "current_directory = os.getcwd()\n",
    "file_path = \"/Users/talhahmalik/Dropbox/Bootcamp - TA23100010081/amazon_product_reviews.csv\"\n",
    "\n",
    "# Load the dataset\n",
    "data = pd.read_csv(file_path)"
   ]
  },
  {
   "cell_type": "code",
   "execution_count": 111,
   "id": "d4239df4",
   "metadata": {},
   "outputs": [],
   "source": [
    "# Drop rows with missing values in the 'reviews.text' column\n",
    "clean_data = data.dropna(subset=['reviews.text'])\n"
   ]
  },
  {
   "cell_type": "code",
   "execution_count": 112,
   "id": "fbdfd24a",
   "metadata": {},
   "outputs": [],
   "source": [
    "# Test the sentiment analysis function on sample product reviews\n",
    "sample_reviews = [\n",
    "    \"This product exceeded my expectations. I highly recommend it!\",\n",
    "    \"The quality of this product is terrible. I would not buy it again.\"\n",
    "]"
   ]
  },
  {
   "cell_type": "code",
   "execution_count": 113,
   "id": "ccd18b59",
   "metadata": {},
   "outputs": [
    {
     "name": "stdout",
     "output_type": "stream",
     "text": [
      "Sentiment analysis results:\n",
      "Review: This product exceeded my expectations. I highly recommend it! - Sentiment: Positive\n",
      "Review: The quality of this product is terrible. I would not buy it again. - Sentiment: Negative\n"
     ]
    }
   ],
   "source": [
    "print(\"Sentiment analysis results:\")\n",
    "for review in sample_reviews:\n",
    "    sentiment = analyze_sentiment(review)\n",
    "    print(f\"Review: {review} - Sentiment: {sentiment}\")"
   ]
  }
 ],
 "metadata": {
  "kernelspec": {
   "display_name": "Python 3 (ipykernel)",
   "language": "python",
   "name": "python3"
  },
  "language_info": {
   "codemirror_mode": {
    "name": "ipython",
    "version": 3
   },
   "file_extension": ".py",
   "mimetype": "text/x-python",
   "name": "python",
   "nbconvert_exporter": "python",
   "pygments_lexer": "ipython3",
   "version": "3.11.5"
  }
 },
 "nbformat": 4,
 "nbformat_minor": 5
}
